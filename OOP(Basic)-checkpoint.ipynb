{
 "cells": [
  {
   "cell_type": "code",
   "execution_count": 4,
   "id": "76cded03-13d2-4c67-bf70-179600ffb9ff",
   "metadata": {},
   "outputs": [
    {
     "name": "stdout",
     "output_type": "stream",
     "text": [
      "Puppy\n",
      "Woof!\n"
     ]
    }
   ],
   "source": [
    "class Dog():\n",
    "    def __init__ (self, name , age):\n",
    "        self.name= name\n",
    "        self.age = age\n",
    "        \n",
    "    def bark (self):\n",
    "        print(\"Woof!\")\n",
    "        \n",
    "dog1= Dog('Puppy',3)\n",
    "dog2= Dog('Jack' ,2)\n",
    "\n",
    "print(dog1.name)\n",
    "dog2.bark()\n"
   ]
  },
  {
   "cell_type": "code",
   "execution_count": 6,
   "id": "9d97b709-1d28-4c40-8763-86c04cdc5bbc",
   "metadata": {},
   "outputs": [
    {
     "name": "stdout",
     "output_type": "stream",
     "text": [
      "Ferrari\n",
      "2025\n",
      "200\n"
     ]
    }
   ],
   "source": [
    "class Car ():\n",
    "    def __init__(self , company_name, year , max_speed):\n",
    "        self.company_name = company_name\n",
    "        self.year = year\n",
    "        self.max_speed= max_speed\n",
    "Porsche= Car('Ferrari', 2000, 280)\n",
    "Camery = Car('Toyota', 2025, 300)\n",
    "Q6= Car('Audi',2025, 200 )\n",
    "\n",
    "print(Porsche.company_name)\n",
    "print(Camery.year)\n",
    "print(Q6.max_speed)"
   ]
  },
  {
   "cell_type": "code",
   "execution_count": null,
   "id": "9268a4fc-b0d5-4a9b-b35a-9a41ed176fb4",
   "metadata": {},
   "outputs": [],
   "source": []
  }
 ],
 "metadata": {
  "kernelspec": {
   "display_name": "Python 3 (ipykernel)",
   "language": "python",
   "name": "python3"
  },
  "language_info": {
   "codemirror_mode": {
    "name": "ipython",
    "version": 3
   },
   "file_extension": ".py",
   "mimetype": "text/x-python",
   "name": "python",
   "nbconvert_exporter": "python",
   "pygments_lexer": "ipython3",
   "version": "3.13.5"
  }
 },
 "nbformat": 4,
 "nbformat_minor": 5
}
