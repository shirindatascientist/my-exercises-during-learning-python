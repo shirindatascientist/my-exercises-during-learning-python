{
 "cells": [
  {
   "cell_type": "code",
   "execution_count": 1,
   "id": "57b5bb94-8552-4332-9cfe-bbb511a0312d",
   "metadata": {},
   "outputs": [
    {
     "name": "stdout",
     "output_type": "stream",
     "text": [
      "Hello\n"
     ]
    }
   ],
   "source": [
    "def function_name ():\n",
    "    print ('Hello')\n",
    "function_name()"
   ]
  },
  {
   "cell_type": "code",
   "execution_count": 18,
   "id": "64e870e3-e9c2-4849-8087-d0f7b979b6b1",
   "metadata": {},
   "outputs": [
    {
     "name": "stdout",
     "output_type": "stream",
     "text": [
      "There are 3 parameters: num1 num2 num3\n"
     ]
    }
   ],
   "source": [
    "def function(par1,par2,par3):\n",
    "    print('There are 3 parameters:', par1, par2, par3)\n",
    "function('num1', 'num2', 'num3')"
   ]
  },
  {
   "cell_type": "code",
   "execution_count": 7,
   "id": "42e89ca1-bf0f-4f02-a1ee-f1d3cc8612fa",
   "metadata": {},
   "outputs": [
    {
     "name": "stdout",
     "output_type": "stream",
     "text": [
      "16\n"
     ]
    }
   ],
   "source": [
    "def powerfunc(p):\n",
    "    return p**2\n",
    "result= powerfunc(4)\n",
    "print(result)"
   ]
  },
  {
   "cell_type": "code",
   "execution_count": 8,
   "id": "1e6e2f58-0f47-458a-8ed6-af453e1d27c9",
   "metadata": {},
   "outputs": [
    {
     "data": {
      "text/plain": [
       "120"
      ]
     },
     "execution_count": 8,
     "metadata": {},
     "output_type": "execute_result"
    }
   ],
   "source": [
    "def fact (n):\n",
    "    i=1\n",
    "    m=1\n",
    "    while i<=n:\n",
    "        m=m*i\n",
    "        i=i+1\n",
    "    return m\n",
    "fact (5)"
   ]
  },
  {
   "cell_type": "code",
   "execution_count": 22,
   "id": "5cbec5f0-d91a-47ae-b56a-3e8fb15a76ea",
   "metadata": {},
   "outputs": [
    {
     "name": "stdout",
     "output_type": "stream",
     "text": [
      "40320 362880\n"
     ]
    }
   ],
   "source": [
    "#factorial\n",
    "\n",
    "def factor (num):\n",
    "    f=1\n",
    "    for i in range(1, num+1):\n",
    "        f=f*i\n",
    "    return(f)\n",
    "print(factor(8), factor(9))"
   ]
  },
  {
   "cell_type": "code",
   "execution_count": 23,
   "id": "158ea32f-6e6c-4893-a072-63928a47c9e1",
   "metadata": {},
   "outputs": [
    {
     "name": "stdout",
     "output_type": "stream",
     "text": [
      "10 6\n"
     ]
    }
   ],
   "source": [
    "#tarkib n az r\n",
    "def math (n, r):\n",
    "    return factor(n)//(factor(n-r)*factor(r))\n",
    "print (math(5,3) , math(4,2))"
   ]
  },
  {
   "cell_type": "code",
   "execution_count": null,
   "id": "38dd72e5-5398-4778-99d1-4a09e0bd14fe",
   "metadata": {},
   "outputs": [],
   "source": []
  }
 ],
 "metadata": {
  "kernelspec": {
   "display_name": "Python 3 (ipykernel)",
   "language": "python",
   "name": "python3"
  },
  "language_info": {
   "codemirror_mode": {
    "name": "ipython",
    "version": 3
   },
   "file_extension": ".py",
   "mimetype": "text/x-python",
   "name": "python",
   "nbconvert_exporter": "python",
   "pygments_lexer": "ipython3",
   "version": "3.13.5"
  }
 },
 "nbformat": 4,
 "nbformat_minor": 5
}
