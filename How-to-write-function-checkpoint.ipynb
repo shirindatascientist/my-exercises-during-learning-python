{
 "cells": [
  {
   "cell_type": "code",
   "execution_count": 1,
   "id": "57b5bb94-8552-4332-9cfe-bbb511a0312d",
   "metadata": {},
   "outputs": [
    {
     "name": "stdout",
     "output_type": "stream",
     "text": [
      "Hello\n"
     ]
    }
   ],
   "source": [
    "def function_name ():\n",
    "    print ('Hello')\n",
    "function_name()"
   ]
  },
  {
   "cell_type": "code",
   "execution_count": 18,
   "id": "64e870e3-e9c2-4849-8087-d0f7b979b6b1",
   "metadata": {},
   "outputs": [
    {
     "name": "stdout",
     "output_type": "stream",
     "text": [
      "There are 3 parameters: num1 num2 num3\n"
     ]
    }
   ],
   "source": [
    "def function(par1,par2,par3):\n",
    "    print('There are 3 parameters:', par1, par2, par3)\n",
    "function('num1', 'num2', 'num3')"
   ]
  },
  {
   "cell_type": "code",
   "execution_count": 7,
   "id": "42e89ca1-bf0f-4f02-a1ee-f1d3cc8612fa",
   "metadata": {},
   "outputs": [
    {
     "name": "stdout",
     "output_type": "stream",
     "text": [
      "16\n"
     ]
    }
   ],
   "source": [
    "def powerfunc(p):\n",
    "    return p**2\n",
    "result= powerfunc(4)\n",
    "print(result)"
   ]
  },
  {
   "cell_type": "code",
   "execution_count": 8,
   "id": "1e6e2f58-0f47-458a-8ed6-af453e1d27c9",
   "metadata": {},
   "outputs": [
    {
     "data": {
      "text/plain": [
       "120"
      ]
     },
     "execution_count": 8,
     "metadata": {},
     "output_type": "execute_result"
    }
   ],
   "source": [
    "def fact (n):\n",
    "    i=1\n",
    "    m=1\n",
    "    while i<=n:\n",
    "        m=m*i\n",
    "        i=i+1\n",
    "    return m\n",
    "fact (5)"
   ]
  },
  {
   "cell_type": "code",
   "execution_count": 1,
   "id": "5cbec5f0-d91a-47ae-b56a-3e8fb15a76ea",
   "metadata": {},
   "outputs": [
    {
     "name": "stdout",
     "output_type": "stream",
     "text": [
      "120 362880\n"
     ]
    }
   ],
   "source": [
    "#factorial\n",
    "\n",
    "def factor (num):\n",
    "    f=1\n",
    "    for i in range(1, num+1):\n",
    "        f=f*i\n",
    "    return(f)\n",
    "print(factor(5), factor(9))"
   ]
  },
  {
   "cell_type": "code",
   "execution_count": 23,
   "id": "158ea32f-6e6c-4893-a072-63928a47c9e1",
   "metadata": {},
   "outputs": [
    {
     "name": "stdout",
     "output_type": "stream",
     "text": [
      "10 6\n"
     ]
    }
   ],
   "source": [
    "#tarkib n az r\n",
    "def math (n, r):\n",
    "    return factor(n)//(factor(n-r)*factor(r))\n",
    "print (math(5,3) , math(4,2))"
   ]
  },
  {
   "cell_type": "code",
   "execution_count": 4,
   "id": "38dd72e5-5398-4778-99d1-4a09e0bd14fe",
   "metadata": {},
   "outputs": [
    {
     "name": "stdin",
     "output_type": "stream",
     "text": [
      "Enter your number 6\n"
     ]
    },
    {
     "name": "stdout",
     "output_type": "stream",
     "text": [
      "Hello your number is: 6\n",
      "6 be tavan 2 ast: 36\n"
     ]
    }
   ],
   "source": [
    "def func4 ():\n",
    "    n=input(\"Enter your number\")\n",
    "    print( \"Hello your number is:\" , n)\n",
    "    n1= int(n)\n",
    "    print(f\"{n} be tavan 2 ast:\" , n1**2)\n",
    "func4()"
   ]
  },
  {
   "cell_type": "code",
   "execution_count": 5,
   "id": "d3e37eec-94a1-4d0f-b0af-c6061da04cb4",
   "metadata": {},
   "outputs": [
    {
     "name": "stdin",
     "output_type": "stream",
     "text": [
      "Enter the length of rectangle 5\n",
      "Enter the width of rectangle 6\n"
     ]
    },
    {
     "name": "stdout",
     "output_type": "stream",
     "text": [
      " مساحت مستطیل است:30\n"
     ]
    }
   ],
   "source": [
    "def calculate_rectangle_area():\n",
    "    length=input(\"Enter the length of rectangle\")\n",
    "    width= input(\"Enter the width of rectangle\")\n",
    "    L= int(length)\n",
    "    W= int(width)\n",
    "    area=L*W\n",
    "    return area\n",
    "finalarea= calculate_rectangle_area()\n",
    "print(f' مساحت مستطیل است:{finalarea}')"
   ]
  },
  {
   "cell_type": "code",
   "execution_count": 6,
   "id": "64bdc0e8-c6af-4148-bbbd-35392b01bca9",
   "metadata": {},
   "outputs": [
    {
     "name": "stdout",
     "output_type": "stream",
     "text": [
      "area is equals:6\n"
     ]
    }
   ],
   "source": [
    "def cra(l,w):\n",
    "    A=l*w\n",
    "    return A\n",
    "AREA= cra(2,3)\n",
    "print(f\"area is equals:{AREA}\")"
   ]
  },
  {
   "cell_type": "code",
   "execution_count": 7,
   "id": "1c730c71-9305-498e-9d9a-329b9bf6460b",
   "metadata": {},
   "outputs": [
    {
     "data": {
      "text/plain": [
       "20"
      ]
     },
     "execution_count": 7,
     "metadata": {},
     "output_type": "execute_result"
    }
   ],
   "source": [
    "def cra(l,w):\n",
    "    A=l*w\n",
    "    return A\n",
    "cra(4,5)"
   ]
  },
  {
   "cell_type": "code",
   "execution_count": null,
   "id": "bc930656-a8dc-4207-8214-f5099ce05945",
   "metadata": {},
   "outputs": [],
   "source": []
  }
 ],
 "metadata": {
  "kernelspec": {
   "display_name": "Python 3 (ipykernel)",
   "language": "python",
   "name": "python3"
  },
  "language_info": {
   "codemirror_mode": {
    "name": "ipython",
    "version": 3
   },
   "file_extension": ".py",
   "mimetype": "text/x-python",
   "name": "python",
   "nbconvert_exporter": "python",
   "pygments_lexer": "ipython3",
   "version": "3.13.5"
  }
 },
 "nbformat": 4,
 "nbformat_minor": 5
}
