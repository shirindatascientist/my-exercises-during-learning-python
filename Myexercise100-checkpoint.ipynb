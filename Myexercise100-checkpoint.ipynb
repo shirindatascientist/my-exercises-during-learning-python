{
 "cells": [
  {
   "cell_type": "code",
   "execution_count": 35,
   "id": "d2d63eb1-3ea0-4f88-908f-14bd65eb1acc",
   "metadata": {},
   "outputs": [
    {
     "name": "stdout",
     "output_type": "stream",
     "text": [
      "hello wolrd\n",
      "shirin is a data scientist\n",
      "5\n",
      "<class 'int'>\n",
      "<class 'int'>\n",
      "<class 'float'>\n",
      "2 3 8.75 hello wolrd shirin is a data scientist\n"
     ]
    },
    {
     "name": "stdin",
     "output_type": "stream",
     "text": [
      "type s.th here \t shirin\n"
     ]
    },
    {
     "name": "stdout",
     "output_type": "stream",
     "text": [
      "shirin\n"
     ]
    },
    {
     "name": "stdin",
     "output_type": "stream",
     "text": [
      "type an int Num 10\n"
     ]
    },
    {
     "name": "stdout",
     "output_type": "stream",
     "text": [
      "<class 'str'>\n",
      "10\n"
     ]
    }
   ],
   "source": [
    "x=2\n",
    "y=3\n",
    "z= 8.75\n",
    "xy =\"hello wolrd\"\n",
    "yx= \"shirin is a data scientist\"\n",
    "\n",
    "print(xy)\n",
    "print (yx)\n",
    "print (x+y)\n",
    "print (type (x))\n",
    "print(type (y))\n",
    "print(type (z))\n",
    "print (x,y,z,xy,yx)\n",
    "s5= input('type s.th here \\t')\n",
    "type(s5)\n",
    "print (s5)\n",
    "abc= input(\"type an int Num\")\n",
    "print(type(abc))\n",
    "print(int(abc))"
   ]
  },
  {
   "cell_type": "code",
   "execution_count": 3,
   "id": "893ebb45-60c4-4a25-9fcc-2b7df4a2ae1e",
   "metadata": {},
   "outputs": [
    {
     "name": "stdout",
     "output_type": "stream",
     "text": [
      "Shirin\n",
      "  Shirin  \n",
      "       Shirin       \n",
      "            Shirin            \n",
      "                 Shirin                 \n"
     ]
    }
   ],
   "source": [
    "s='Shirin'\n",
    "print (s)\n",
    "print(s.center(10))\n",
    "print(s.center(20))\n",
    "print(s.center(30))\n",
    "print(s.center(40))"
   ]
  },
  {
   "cell_type": "code",
   "execution_count": 2,
   "id": "d95a8252-72c5-4777-ab73-ad521ff07771",
   "metadata": {},
   "outputs": [
    {
     "name": "stdout",
     "output_type": "stream",
     "text": [
      "         *          \n",
      "        ***         \n",
      "       *****        \n",
      "      *******       \n"
     ]
    }
   ],
   "source": [
    "print('*'.center(20))\n",
    "print('***'.center(20))\n",
    "print('*****'.center(20))\n",
    "print('*******'.center(20))\n"
   ]
  },
  {
   "cell_type": "code",
   "execution_count": 1,
   "id": "568fb184-a594-407b-b7cc-3d3fab0976dc",
   "metadata": {},
   "outputs": [
    {
     "name": "stdin",
     "output_type": "stream",
     "text": [
      " 10\n",
      " 20\n"
     ]
    },
    {
     "name": "stdout",
     "output_type": "stream",
     "text": [
      "x+y= 10+20 = 30\n"
     ]
    }
   ],
   "source": [
    "x=int (input())\n",
    "y= int(input())\n",
    "print(f'x+y= {x}+{y} = {x+y}')"
   ]
  },
  {
   "cell_type": "code",
   "execution_count": 8,
   "id": "a49aaac4-396d-42a1-bcf8-8958c2fdb062",
   "metadata": {},
   "outputs": [
    {
     "name": "stdout",
     "output_type": "stream",
     "text": [
      "avg= 3.3333333333333335\n"
     ]
    }
   ],
   "source": [
    "a=2\n",
    "b=3\n",
    "c=5\n",
    "sum=a+b+c\n",
    "print(f'avg= {sum/3}')"
   ]
  },
  {
   "cell_type": "code",
   "execution_count": 7,
   "id": "b72b3a0f-8195-45ef-a4b2-8d3628bc5647",
   "metadata": {},
   "outputs": [
    {
     "name": "stdin",
     "output_type": "stream",
     "text": [
      " 20\n",
      " 10\n"
     ]
    },
    {
     "name": "stdout",
     "output_type": "stream",
     "text": [
      "big is 20\n",
      "small is 10\n"
     ]
    }
   ],
   "source": [
    "x = int(input())\n",
    "y = int(input())\n",
    "if x==y:\n",
    "    print('Enter diffrent numbers:')\n",
    "    x= int(input())\n",
    "    y= int(input())\n",
    "elif x>y :\n",
    "    print( 'big is %d'%x)\n",
    "    print('small is %d'%y)\n",
    "\n",
    "else :\n",
    "    print('big is %d'%y)\n",
    "    print('small is %d'%x)\n"
   ]
  },
  {
   "cell_type": "code",
   "execution_count": 8,
   "id": "65f20b8f-f44e-4f79-a533-445c68bf946d",
   "metadata": {},
   "outputs": [
    {
     "name": "stdin",
     "output_type": "stream",
     "text": [
      " 100\n",
      " 200\n",
      " 300\n"
     ]
    },
    {
     "name": "stdout",
     "output_type": "stream",
     "text": [
      "300\n"
     ]
    }
   ],
   "source": [
    "x= int (input())\n",
    "y= int (input())\n",
    "z= int (input())\n",
    "if x==y and x==z:\n",
    "    print('not continue')\n",
    "elif x>y and x>z:\n",
    "        print(x)\n",
    "elif y>x and y>z:\n",
    "    print(y)\n",
    "else:\n",
    "    print(z)\n",
    "        "
   ]
  },
  {
   "cell_type": "code",
   "execution_count": 9,
   "id": "a0842e37-821a-4ad8-9723-155598e2e7bb",
   "metadata": {},
   "outputs": [
    {
     "name": "stdout",
     "output_type": "stream",
     "text": [
      "hello \n",
      "hello \n",
      "hello \n",
      "hello \n",
      "hello \n",
      "hello \n",
      "hello \n",
      "hello \n",
      "hello \n",
      "hello \n",
      "\n",
      "backslash: \\ \n",
      "\n"
     ]
    }
   ],
   "source": [
    "print('hello \\n' *10)\n",
    "print('backslash: \\\\ \\n')"
   ]
  },
  {
   "cell_type": "code",
   "execution_count": 10,
   "id": "ba6f9fec-0da3-4e14-b0ad-a2ca1857064b",
   "metadata": {},
   "outputs": [
    {
     "name": "stdout",
     "output_type": "stream",
     "text": [
      "may\n",
      "jun\n",
      "huly\n"
     ]
    }
   ],
   "source": [
    "print('may\\njun\\nhuly')"
   ]
  },
  {
   "cell_type": "code",
   "execution_count": 11,
   "id": "a87fa501-9e1d-4649-bb8f-a0d50d82fdb6",
   "metadata": {},
   "outputs": [
    {
     "name": "stdin",
     "output_type": "stream",
     "text": [
      " 7\n"
     ]
    },
    {
     "name": "stdout",
     "output_type": "stream",
     "text": [
      "adad avval\n"
     ]
    }
   ],
   "source": [
    "x = int (input())\n",
    "if x in (2,3,5,7,11,13,17,19) :\n",
    "    print(\"adad avval\")\n",
    "else :\n",
    "    print(\"adad morakab\")"
   ]
  },
  {
   "cell_type": "code",
   "execution_count": 12,
   "id": "33eec3a0-710b-41e7-a464-26caa70ecebf",
   "metadata": {},
   "outputs": [
    {
     "name": "stdout",
     "output_type": "stream",
     "text": [
      "3\n",
      "10\n",
      "Shirin\n"
     ]
    }
   ],
   "source": [
    "i=1\n",
    "for i in [3,10 , 'Shirin']:\n",
    "    print(i)"
   ]
  },
  {
   "cell_type": "code",
   "execution_count": 13,
   "id": "d6a9f90a-bfa5-4b1f-bc39-b0e459df38b2",
   "metadata": {},
   "outputs": [
    {
     "name": "stdout",
     "output_type": "stream",
     "text": [
      "  1  2  3\n",
      "  4  5  6\n",
      "  7  8  9\n"
     ]
    }
   ],
   "source": [
    "list_of_list = [[1, 2, 3],[4, 5, 6],[7, 8, 9]]\n",
    "for list1 in list_of_list:\n",
    "    for x in list1:\n",
    "        print(\"%3s\"%x , end='' )\n",
    "    print('\\n' , end='')"
   ]
  },
  {
   "cell_type": "code",
   "execution_count": 14,
   "id": "6383c46c-0b42-40ae-aa7a-873c9c85eed5",
   "metadata": {},
   "outputs": [
    {
     "name": "stdout",
     "output_type": "stream",
     "text": [
      "0\n",
      "1\n",
      "2\n",
      "3\n",
      "4\n",
      "The end\n",
      "The end\n",
      "The end\n",
      "The end\n",
      "The end\n"
     ]
    }
   ],
   "source": [
    "for i in range(10):\n",
    "    if i>4:\n",
    "        print(\"The end\", end='\\n')\n",
    "        continue\n",
    "    elif i<7:\n",
    "        print(i, end='\\n')"
   ]
  },
  {
   "cell_type": "code",
   "execution_count": 15,
   "id": "446c471c-09eb-4b58-a438-2df4266635c3",
   "metadata": {},
   "outputs": [
    {
     "name": "stdout",
     "output_type": "stream",
     "text": [
      "[27, 54, 81, 108, 135, 162, 189, 216, 243, 270]\n"
     ]
    }
   ],
   "source": [
    "res = []\n",
    "for i in range (1, 11):\n",
    "    x= 27*i \n",
    "    res.append(x)\n",
    "print(res)"
   ]
  },
  {
   "cell_type": "code",
   "execution_count": 21,
   "id": "13054e33-a981-4c3f-89b7-6c5df859d4ab",
   "metadata": {},
   "outputs": [
    {
     "name": "stdout",
     "output_type": "stream",
     "text": [
      "1 2 3 4 5 6 7 8 9 "
     ]
    }
   ],
   "source": [
    "mylist=[1,2,3,4,5,6,7,8,9]\n",
    "for x in mylist:\n",
    "    print(x , end= ' ')"
   ]
  },
  {
   "cell_type": "code",
   "execution_count": 19,
   "id": "cfd08a14-8021-47bb-bc8f-05545a3444dc",
   "metadata": {},
   "outputs": [
    {
     "name": "stdout",
     "output_type": "stream",
     "text": [
      "4\n",
      "5\n"
     ]
    }
   ],
   "source": [
    "for x in mylist:\n",
    "    if x//2==2:\n",
    "        print(x)"
   ]
  },
  {
   "cell_type": "code",
   "execution_count": 22,
   "id": "49b6ed38-1e20-4e0a-a5f5-e09c9201848e",
   "metadata": {},
   "outputs": [
    {
     "name": "stdout",
     "output_type": "stream",
     "text": [
      "s\n",
      "h\n",
      "i\n",
      "r\n",
      "i\n",
      "n\n",
      " \n",
      "n\n",
      "a\n",
      "m\n",
      "a\n",
      "z\n",
      "i\n"
     ]
    }
   ],
   "source": [
    "mystring='shirin namazi'\n",
    "for letter in mystring:\n",
    "    print(letter)"
   ]
  },
  {
   "cell_type": "code",
   "execution_count": 23,
   "id": "80aa780c-648e-4d96-8991-a1158146f9a7",
   "metadata": {},
   "outputs": [
    {
     "name": "stdout",
     "output_type": "stream",
     "text": [
      "1\n",
      "2\n",
      "3\n",
      "4\n",
      "5\n"
     ]
    }
   ],
   "source": [
    "mytuple=(1,2,3,4,5)\n",
    "for harchi in mytuple:\n",
    "    print(harchi)"
   ]
  },
  {
   "cell_type": "code",
   "execution_count": 24,
   "id": "2e69afd9-71a1-4970-8ab5-536a8a435e49",
   "metadata": {},
   "outputs": [
    {
     "name": "stdout",
     "output_type": "stream",
     "text": [
      "         1         2         3\n",
      "         4         5         6\n"
     ]
    }
   ],
   "source": [
    "newlist=[(1,2,3),(4,5,6)]\n",
    "for mem in newlist:\n",
    "    for mem1 in mem:\n",
    "        print('%10s'%mem1 , end='')\n",
    "    print('\\n', end='' )"
   ]
  },
  {
   "cell_type": "code",
   "execution_count": 25,
   "id": "962d637e-a6fc-4887-abab-bf1b75f6949f",
   "metadata": {},
   "outputs": [
    {
     "name": "stdout",
     "output_type": "stream",
     "text": [
      "(1,2,3): 6\n",
      "(4,5,6): 15\n"
     ]
    }
   ],
   "source": [
    "for (a,b,c) in newlist:\n",
    "    print(f'({a},{b},{c}): {a+b+c}')"
   ]
  },
  {
   "cell_type": "code",
   "execution_count": 2,
   "id": "c1b88734-5a40-4da5-9f7b-782d9cba0776",
   "metadata": {},
   "outputs": [
    {
     "name": "stdin",
     "output_type": "stream",
     "text": [
      " 1\n",
      " 1\n",
      " 1\n"
     ]
    },
    {
     "name": "stdout",
     "output_type": "stream",
     "text": [
      "making a triangle is possible\n"
     ]
    }
   ],
   "source": [
    "# make a triangle\n",
    "a= int(input())\n",
    "b= int(input())\n",
    "c= int(input())\n",
    "if a<b+c and b<a+c and c<a+b:\n",
    "    print('making a triangle is possible')\n",
    "else :\n",
    "    print('making a triangle is not possible')"
   ]
  },
  {
   "cell_type": "code",
   "execution_count": 4,
   "id": "30243c1a-8676-4a37-a572-a7e69a46bb4f",
   "metadata": {},
   "outputs": [
    {
     "name": "stdin",
     "output_type": "stream",
     "text": [
      " 1\n",
      " 1\n",
      " 1\n"
     ]
    },
    {
     "name": "stdout",
     "output_type": "stream",
     "text": [
      "making a triangle is not possible\n"
     ]
    }
   ],
   "source": [
    "# make a Right triangle\n",
    "a= int(input())\n",
    "b= int(input())\n",
    "c= int(input())\n",
    "if a**2==b**2+c**2 and b**2==a**2+c**2 and c**2==a**2+b**2:\n",
    "    print('making a triangle is possible')\n",
    "else :\n",
    "    print('making a triangle is not possible')"
   ]
  },
  {
   "cell_type": "code",
   "execution_count": 18,
   "id": "b1d959d1-0cfa-4f41-8a33-2cef8d0cbb65",
   "metadata": {},
   "outputs": [
    {
     "name": "stdin",
     "output_type": "stream",
     "text": [
      " 10\n"
     ]
    },
    {
     "name": "stdout",
     "output_type": "stream",
     "text": [
      "1.4644841269841269 "
     ]
    }
   ],
   "source": [
    "# n series\n",
    "n= int(input())\n",
    "s=0\n",
    "i=2\n",
    "while i<=2*n:\n",
    "    s= s+ 1/i\n",
    "    i=i+2\n",
    "print (s , end=' ')\n",
    "    "
   ]
  },
  {
   "cell_type": "code",
   "execution_count": 36,
   "id": "045a9490-4195-433a-950e-8374163cb50e",
   "metadata": {},
   "outputs": [
    {
     "name": "stdout",
     "output_type": "stream",
     "text": [
      "[500, 502, 504, 506, 508, 510, 512, 514, 516, 518, 520, 522, 524, 526, 528, 530, 532, 534, 536, 538, 540, 542, 544, 546, 548, 550, 552, 554, 556, 558, 560, 562, 564, 566, 568, 570, 572, 574, 576, 578, 580, 582, 584, 586, 588, 590, 592, 594, 596, 598, 600, 602, 604, 606, 608, 610, 612, 614, 616, 618, 620, 622, 624, 626, 628, 630, 632, 634, 636, 638, 640, 642, 644, 646, 648, 650, 652, 654, 656, 658, 660, 662, 664, 666, 668, 670, 672, 674, 676, 678, 680, 682, 684, 686, 688, 690, 692, 694, 696, 698, 700, 702, 704, 706, 708, 710, 712, 714, 716, 718, 720, 722, 724, 726, 728, 730, 732, 734, 736, 738, 740, 742, 744, 746, 748, 750, 752, 754, 756, 758, 760, 762, 764, 766, 768, 770, 772, 774, 776, 778, 780, 782, 784, 786, 788, 790, 792, 794, 796, 798, 800, 802, 804, 806, 808, 810, 812, 814, 816, 818, 820, 822, 824, 826, 828, 830, 832, 834, 836, 838, 840, 842, 844, 846, 848, 850, 852, 854, 856, 858, 860, 862, 864, 866, 868, 870, 872, 874, 876, 878, 880, 882, 884, 886, 888, 890, 892, 894, 896, 898, 900, 902, 904, 906, 908, 910, 912, 914, 916, 918, 920, 922, 924, 926, 928, 930, 932, 934, 936, 938, 940, 942, 944, 946, 948, 950, 952, 954, 956, 958, 960, 962, 964, 966, 968, 970, 972, 974, 976, 978, 980, 982, 984, 986, 988, 990, 992, 994, 996, 998, 1000, 1002, 1004, 1006, 1008, 1010, 1012, 1014, 1016, 1018, 1020, 1022, 1024, 1026, 1028, 1030, 1032, 1034, 1036, 1038, 1040, 1042, 1044, 1046, 1048, 1050, 1052, 1054, 1056, 1058, 1060, 1062, 1064, 1066, 1068, 1070, 1072, 1074, 1076, 1078, 1080, 1082, 1084, 1086, 1088, 1090, 1092, 1094, 1096, 1098, 1100, 1102, 1104, 1106, 1108, 1110, 1112, 1114, 1116, 1118, 1120, 1122, 1124, 1126, 1128, 1130, 1132, 1134, 1136, 1138, 1140, 1142, 1144, 1146, 1148, 1150, 1152, 1154, 1156, 1158, 1160, 1162, 1164, 1166, 1168, 1170, 1172, 1174, 1176, 1178, 1180, 1182, 1184, 1186, 1188, 1190, 1192, 1194, 1196, 1198, 1200, 1202, 1204, 1206, 1208, 1210, 1212, 1214, 1216, 1218, 1220, 1222, 1224, 1226, 1228, 1230, 1232, 1234, 1236, 1238, 1240, 1242, 1244, 1246, 1248, 1250, 1252, 1254, 1256, 1258, 1260, 1262, 1264, 1266, 1268, 1270, 1272, 1274, 1276, 1278, 1280, 1282, 1284, 1286, 1288, 1290, 1292, 1294, 1296, 1298, 1300, 1302, 1304, 1306, 1308, 1310, 1312, 1314, 1316, 1318, 1320, 1322, 1324, 1326, 1328, 1330, 1332, 1334, 1336, 1338, 1340, 1342, 1344, 1346, 1348, 1350, 1352, 1354, 1356, 1358, 1360, 1362, 1364, 1366, 1368, 1370, 1372, 1374, 1376, 1378, 1380, 1382, 1384, 1386, 1388, 1390, 1392, 1394, 1396, 1398, 1400, 1402, 1404, 1406, 1408, 1410, 1412, 1414, 1416, 1418, 1420, 1422, 1424, 1426, 1428, 1430, 1432, 1434, 1436, 1438, 1440, 1442, 1444, 1446, 1448, 1450, 1452, 1454, 1456, 1458, 1460, 1462, 1464, 1466, 1468, 1470, 1472, 1474, 1476, 1478, 1480, 1482, 1484, 1486, 1488, 1490, 1492, 1494, 1496, 1498, 1500, 1502, 1504, 1506, 1508, 1510, 1512, 1514, 1516, 1518, 1520, 1522, 1524, 1526, 1528, 1530, 1532, 1534, 1536, 1538, 1540, 1542, 1544, 1546, 1548, 1550, 1552, 1554, 1556, 1558, 1560, 1562, 1564, 1566, 1568, 1570, 1572, 1574, 1576, 1578, 1580, 1582, 1584, 1586, 1588, 1590, 1592, 1594, 1596, 1598, 1600, 1602, 1604, 1606, 1608, 1610, 1612, 1614, 1616, 1618, 1620, 1622, 1624, 1626, 1628, 1630, 1632, 1634, 1636, 1638, 1640, 1642, 1644, 1646, 1648, 1650, 1652, 1654, 1656, 1658, 1660, 1662, 1664, 1666, 1668, 1670, 1672, 1674, 1676, 1678, 1680, 1682, 1684, 1686, 1688, 1690, 1692, 1694, 1696, 1698, 1700, 1702, 1704, 1706, 1708, 1710, 1712, 1714, 1716, 1718, 1720, 1722, 1724, 1726, 1728, 1730, 1732, 1734, 1736, 1738, 1740, 1742, 1744, 1746, 1748, 1750, 1752, 1754, 1756, 1758, 1760, 1762, 1764, 1766, 1768, 1770, 1772, 1774, 1776, 1778, 1780, 1782, 1784, 1786, 1788, 1790, 1792, 1794, 1796, 1798, 1800, 1802, 1804, 1806, 1808, 1810, 1812, 1814, 1816, 1818, 1820, 1822, 1824, 1826, 1828, 1830, 1832, 1834, 1836, 1838, 1840, 1842, 1844, 1846, 1848, 1850, 1852, 1854, 1856, 1858, 1860, 1862, 1864, 1866, 1868, 1870, 1872, 1874, 1876, 1878, 1880, 1882, 1884, 1886, 1888, 1890, 1892, 1894, 1896, 1898, 1900, 1902, 1904, 1906, 1908, 1910, 1912, 1914, 1916, 1918, 1920, 1922, 1924, 1926, 1928, 1930, 1932, 1934, 1936, 1938, 1940, 1942, 1944, 1946, 1948, 1950, 1952, 1954, 1956, 1958, 1960, 1962, 1964, 1966, 1968, 1970, 1972, 1974, 1976, 1978, 1980, 1982, 1984, 1986, 1988, 1990, 1992, 1994, 1996, 1998, 2000]\n",
      "avg=938750/751 = 1250.0\n"
     ]
    }
   ],
   "source": [
    "# print even numbers and average 500-2000\n",
    "x=500\n",
    "list =[]\n",
    "i=0\n",
    "s=0\n",
    "while x<=2000:\n",
    "    list.append(x)\n",
    "    i=i+1\n",
    "    s=s+x\n",
    "    x=x+2\n",
    "print(list)\n",
    "print (f'avg={s}/{i} = {s/i}')"
   ]
  },
  {
   "cell_type": "code",
   "execution_count": 2,
   "id": "10593208-c14f-4f17-bfe1-2dd1ecae4359",
   "metadata": {},
   "outputs": [
    {
     "name": "stdin",
     "output_type": "stream",
     "text": [
      " 10\n"
     ]
    },
    {
     "name": "stdout",
     "output_type": "stream",
     "text": [
      "['1.0', '0.6666666666666666', '0.3333333333333333', '0.14814814814814814', '0.06172839506172839', '0.024691358024691357', '0.009602194787379973', '0.003657978966620942', '0.0013717421124828531', '0.0005080526342529086']\n"
     ]
    }
   ],
   "source": [
    "p=0\n",
    "i=1\n",
    "n= int(input())\n",
    "list =[]\n",
    "while i<=n:\n",
    "    p=(f'{i/3**(i-1)}')\n",
    "    i=i+1\n",
    "    list.append(p)\n",
    "print(list)"
   ]
  },
  {
   "cell_type": "code",
   "execution_count": 3,
   "id": "fc7e591c-9b5d-4222-86c7-cb056c45e283",
   "metadata": {},
   "outputs": [
    {
     "name": "stdout",
     "output_type": "stream",
     "text": [
      "power= 1.25\n"
     ]
    }
   ],
   "source": [
    "n=3\n",
    "i=5\n",
    "print (f'power= {i/2**(n-1)}')"
   ]
  },
  {
   "cell_type": "code",
   "execution_count": 2,
   "id": "dd4b86e0-d2f5-4414-88f2-c34a397f5434",
   "metadata": {},
   "outputs": [
    {
     "name": "stdout",
     "output_type": "stream",
     "text": [
      " type your number\n"
     ]
    },
    {
     "name": "stdin",
     "output_type": "stream",
     "text": [
      " 12\n"
     ]
    },
    {
     "name": "stdout",
     "output_type": "stream",
     "text": [
      "12 adad aval nist\n"
     ]
    }
   ],
   "source": [
    "print(\" type your number\")\n",
    "n= int(input())\n",
    "i=2\n",
    "if n%i==0:\n",
    "    print(n, 'adad aval nist')\n",
    "else :\n",
    "    while i<n:\n",
    "        n%i !=0\n",
    "        i=i+1\n",
    "    print(n, 'adad aval ast')"
   ]
  },
  {
   "cell_type": "code",
   "execution_count": 3,
   "id": "39c3e736-b669-40fe-a42f-0b7f1e7fd219",
   "metadata": {},
   "outputs": [
    {
     "name": "stdin",
     "output_type": "stream",
     "text": [
      " 10\n",
      " 15\n",
      " 17\n"
     ]
    },
    {
     "name": "stdout",
     "output_type": "stream",
     "text": [
      "passed\n"
     ]
    }
   ],
   "source": [
    "#passed and failed of student at university\n",
    "x= int(input())\n",
    "y= int(input())\n",
    "z= int(input())\n",
    "sum= x+y+z\n",
    "avg= sum/3\n",
    "if avg <12:\n",
    "    print('failed')\n",
    "else:\n",
    "    print('passed')"
   ]
  },
  {
   "cell_type": "code",
   "execution_count": 6,
   "id": "c783f0af-fa7c-46ba-be72-b31f0fc24652",
   "metadata": {},
   "outputs": [
    {
     "name": "stdin",
     "output_type": "stream",
     "text": [
      " 16\n",
      " 45\n",
      " 200000000\n"
     ]
    },
    {
     "name": "stdout",
     "output_type": "stream",
     "text": [
      "pay= 220000000.0\n"
     ]
    }
   ],
   "source": [
    "#salary and bonus\n",
    "work= int(input())\n",
    "age= int(input())\n",
    "salary= int(input())\n",
    "if work>10 and age>30:\n",
    "    pay= (f'pay= {salary+ (salary*0.1)}')\n",
    "    print(pay)\n",
    "elif work>15 and age>40:\n",
    "    pay= (f'pay= {salary+ (salary*0.2)}')\n",
    "    print('Pay=', '%d'%pay)\n",
    "elif work<10 and age<30:\n",
    "    pay= (f'pay= {salary+ (salary*0.02)}')\n",
    "    print('Pay=', '%d'%pay)\n",
    "else:\n",
    "    print('your numbers are not valid')"
   ]
  },
  {
   "cell_type": "code",
   "execution_count": 3,
   "id": "f7884ed7-5bbf-491c-acbf-e9e68bad4490",
   "metadata": {},
   "outputs": [
    {
     "name": "stdout",
     "output_type": "stream",
     "text": [
      "Enter your weight kg=\n"
     ]
    },
    {
     "name": "stdin",
     "output_type": "stream",
     "text": [
      " 60\n"
     ]
    },
    {
     "name": "stdout",
     "output_type": "stream",
     "text": [
      "Enter your height cm=\n"
     ]
    },
    {
     "name": "stdin",
     "output_type": "stream",
     "text": [
      " 164\n"
     ]
    },
    {
     "name": "stdout",
     "output_type": "stream",
     "text": [
      "bmi= 2.23081499107674\n",
      "Enter your weight kg=\n"
     ]
    },
    {
     "name": "stdin",
     "output_type": "stream",
     "text": [
      " 94\n"
     ]
    },
    {
     "name": "stdout",
     "output_type": "stream",
     "text": [
      "Enter your height cm=\n"
     ]
    },
    {
     "name": "stdin",
     "output_type": "stream",
     "text": [
      " 180\n"
     ]
    },
    {
     "name": "stdout",
     "output_type": "stream",
     "text": [
      "bmi= 2.9012345679012346\n",
      "Enter your weight kg=\n"
     ]
    },
    {
     "name": "stdin",
     "output_type": "stream",
     "text": [
      " 80\n"
     ]
    },
    {
     "name": "stdout",
     "output_type": "stream",
     "text": [
      "Enter your height cm=\n"
     ]
    },
    {
     "name": "stdin",
     "output_type": "stream",
     "text": [
      " 158\n"
     ]
    },
    {
     "name": "stdout",
     "output_type": "stream",
     "text": [
      "bmi= 3.204614645088928\n",
      "Enter your weight kg=\n"
     ]
    },
    {
     "name": "stdin",
     "output_type": "stream",
     "text": [
      " 75\n"
     ]
    },
    {
     "name": "stdout",
     "output_type": "stream",
     "text": [
      "Enter your height cm=\n"
     ]
    },
    {
     "name": "stdin",
     "output_type": "stream",
     "text": [
      " 170\n"
     ]
    },
    {
     "name": "stdout",
     "output_type": "stream",
     "text": [
      "bmi= 2.5951557093425603\n",
      "Enter your weight kg=\n"
     ]
    },
    {
     "name": "stdin",
     "output_type": "stream",
     "text": [
      " 60\n"
     ]
    },
    {
     "name": "stdout",
     "output_type": "stream",
     "text": [
      "Enter your height cm=\n"
     ]
    },
    {
     "name": "stdin",
     "output_type": "stream",
     "text": [
      " 157\n"
     ]
    },
    {
     "name": "stdout",
     "output_type": "stream",
     "text": [
      "bmi= 2.4341758286340216\n"
     ]
    }
   ],
   "source": [
    "# calculating of people's BMI\n",
    "i=1\n",
    "while i<=5:\n",
    "    print('Enter your weight kg=')\n",
    "    weight= float(input())\n",
    "    w= weight*1000\n",
    "    print('Enter your height cm=')\n",
    "    height = float(input())\n",
    "    bmi= (f'bmi= {w / (height**2)}')\n",
    "    print(bmi)\n",
    "    i=i+1"
   ]
  },
  {
   "cell_type": "code",
   "execution_count": 4,
   "id": "8ece2b85-90b5-4b2e-b8ea-f3e82a80da1f",
   "metadata": {},
   "outputs": [
    {
     "name": "stdout",
     "output_type": "stream",
     "text": [
      "Enter your mark\n"
     ]
    },
    {
     "name": "stdin",
     "output_type": "stream",
     "text": [
      " 12\n"
     ]
    },
    {
     "name": "stdout",
     "output_type": "stream",
     "text": [
      "Passed\n",
      "Enter your mark\n"
     ]
    },
    {
     "name": "stdin",
     "output_type": "stream",
     "text": [
      " 13\n"
     ]
    },
    {
     "name": "stdout",
     "output_type": "stream",
     "text": [
      "Passed\n",
      "Enter your mark\n"
     ]
    },
    {
     "name": "stdin",
     "output_type": "stream",
     "text": [
      " 5\n"
     ]
    },
    {
     "name": "stdout",
     "output_type": "stream",
     "text": [
      "Failed\n",
      "Enter your mark\n"
     ]
    },
    {
     "name": "stdin",
     "output_type": "stream",
     "text": [
      " 9\n"
     ]
    },
    {
     "name": "stdout",
     "output_type": "stream",
     "text": [
      "Failed\n",
      "Enter your mark\n"
     ]
    },
    {
     "name": "stdin",
     "output_type": "stream",
     "text": [
      " 20\n"
     ]
    },
    {
     "name": "stdout",
     "output_type": "stream",
     "text": [
      "Passed\n",
      "Enter your mark\n"
     ]
    },
    {
     "name": "stdin",
     "output_type": "stream",
     "text": [
      " 17\n"
     ]
    },
    {
     "name": "stdout",
     "output_type": "stream",
     "text": [
      "Passed\n",
      "Enter your mark\n"
     ]
    },
    {
     "name": "stdin",
     "output_type": "stream",
     "text": [
      " 11\n"
     ]
    },
    {
     "name": "stdout",
     "output_type": "stream",
     "text": [
      "Passed\n",
      "Enter your mark\n"
     ]
    },
    {
     "name": "stdin",
     "output_type": "stream",
     "text": [
      " 10\n"
     ]
    },
    {
     "name": "stdout",
     "output_type": "stream",
     "text": [
      "Passed\n",
      "Enter your mark\n"
     ]
    },
    {
     "name": "stdin",
     "output_type": "stream",
     "text": [
      " 6\n"
     ]
    },
    {
     "name": "stdout",
     "output_type": "stream",
     "text": [
      "Failed\n",
      "Enter your mark\n"
     ]
    },
    {
     "name": "stdin",
     "output_type": "stream",
     "text": [
      " 3\n"
     ]
    },
    {
     "name": "stdout",
     "output_type": "stream",
     "text": [
      "Failed\n"
     ]
    }
   ],
   "source": [
    "i=1\n",
    "while i<=10:\n",
    "    print('Enter your mark')\n",
    "    m= float(input())\n",
    "    if m<10:\n",
    "        print('Failed')\n",
    "    else:\n",
    "        print('Passed')\n",
    "    i=i+1"
   ]
  },
  {
   "cell_type": "code",
   "execution_count": 9,
   "id": "f28127ad-dff8-4c64-afdf-56ebe7d180d7",
   "metadata": {},
   "outputs": [
    {
     "name": "stdin",
     "output_type": "stream",
     "text": [
      " 7\n",
      " 8\n"
     ]
    },
    {
     "name": "stdout",
     "output_type": "stream",
     "text": [
      "8\n",
      "7\n"
     ]
    }
   ],
   "source": [
    "#swapping\n",
    "x=int (input())\n",
    "y=int (input())\n",
    "temp=x\n",
    "x=y\n",
    "y=temp\n",
    "print(x)\n",
    "print(y)"
   ]
  },
  {
   "cell_type": "code",
   "execution_count": 8,
   "id": "41587db6-58b2-40a3-b455-7c2eff286392",
   "metadata": {},
   "outputs": [
    {
     "name": "stdin",
     "output_type": "stream",
     "text": [
      " 17\n"
     ]
    },
    {
     "name": "stdout",
     "output_type": "stream",
     "text": [
      "17 is odd\n"
     ]
    }
   ],
   "source": [
    "n= int(input())\n",
    "if n%2==0:\n",
    "    print(n, 'is even')\n",
    "else :\n",
    "    print(n, 'is odd')"
   ]
  },
  {
   "cell_type": "code",
   "execution_count": 11,
   "id": "034d20d4-c0cc-45c1-89dc-94bafab35944",
   "metadata": {},
   "outputs": [
    {
     "name": "stdout",
     "output_type": "stream",
     "text": [
      "0 , 2 , 4 , 6 , 8 , 10 , "
     ]
    }
   ],
   "source": [
    "i=0\n",
    "while i<=10:\n",
    "    print(i, end=' , ')\n",
    "    i=i+2"
   ]
  },
  {
   "cell_type": "code",
   "execution_count": 2,
   "id": "8a65cdcf-d23f-48b7-8573-51ffc23dca90",
   "metadata": {},
   "outputs": [
    {
     "name": "stdin",
     "output_type": "stream",
     "text": [
      " 345\n"
     ]
    },
    {
     "name": "stdout",
     "output_type": "stream",
     "text": [
      "12\n"
     ]
    }
   ],
   "source": [
    "sum=0\n",
    "n= int (input())\n",
    "while n>0:\n",
    "    R= n%10    # r=3 ,r=2\n",
    "    sum=sum+R  #sum=3 ,sum=5\n",
    "    n=n-R      #n=120, 12-2=10\n",
    "    n= int (n/10)  # 120/10=12 , 10/10=1\n",
    "print(sum)"
   ]
  },
  {
   "cell_type": "code",
   "execution_count": 7,
   "id": "3ac5078d-6c39-44e8-b76f-7c49891c2a1a",
   "metadata": {},
   "outputs": [
    {
     "name": "stdout",
     "output_type": "stream",
     "text": [
      "[11, 13, 15, 17, 19, 21, 23, 25, 27, 29, 31, 33, 35, 37, 39, 41, 43, 45, 47, 49, 51, 53, 55, 57, 59, 61, 63, 65, 67, 69, 71, 73, 75, 77, 79, 81, 83, 85, 87, 89, 91, 93, 95, 97, 99]\n"
     ]
    }
   ],
   "source": [
    "list =[]\n",
    "for x in range(10,100) :\n",
    "    r=x%10\n",
    "    if r%2 !=0:\n",
    "        list.append(x)\n",
    "        x=x+1\n",
    "print(list)"
   ]
  },
  {
   "cell_type": "code",
   "execution_count": null,
   "id": "d5bb68e4-efa3-49fa-9c54-e896ca9587c5",
   "metadata": {},
   "outputs": [],
   "source": []
  }
 ],
 "metadata": {
  "kernelspec": {
   "display_name": "Python 3 (ipykernel)",
   "language": "python",
   "name": "python3"
  },
  "language_info": {
   "codemirror_mode": {
    "name": "ipython",
    "version": 3
   },
   "file_extension": ".py",
   "mimetype": "text/x-python",
   "name": "python",
   "nbconvert_exporter": "python",
   "pygments_lexer": "ipython3",
   "version": "3.13.5"
  }
 },
 "nbformat": 4,
 "nbformat_minor": 5
}
